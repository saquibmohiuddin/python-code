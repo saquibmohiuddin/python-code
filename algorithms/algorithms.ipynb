{
 "cells": [
  {
   "attachments": {},
   "cell_type": "markdown",
   "metadata": {},
   "source": [
    "## Sorting"
   ]
  },
  {
   "cell_type": "code",
   "execution_count": 4,
   "metadata": {},
   "outputs": [
    {
     "data": {
      "text/plain": [
       "6"
      ]
     },
     "execution_count": 4,
     "metadata": {},
     "output_type": "execute_result"
    }
   ],
   "source": [
    "x = [21, 23, 20, 18, 4, 19]\n",
    "len(x)"
   ]
  },
  {
   "attachments": {},
   "cell_type": "markdown",
   "metadata": {},
   "source": [
    "### Insert Method\n",
    "* insert(A, j) -> A = array, j = index\n",
    "\n",
    "*Pseudo Code:*\n",
    "\n",
    "```\n",
    "for i = j - 1 down to 1:\n",
    "  if A[i] > A[i + 1]:\n",
    "   swap(A[i], A[i+1])\n",
    "  else:\n",
    "    break\n",
    "```\n",
    "\n",
    "### Insertion sort:\n",
    "\n",
    "```\n",
    "for j = 1 upto n:\n",
    "  insert(A, j)\n",
    "  ```"
   ]
  },
  {
   "attachments": {},
   "cell_type": "markdown",
   "metadata": {},
   "source": [
    "### Computational Complexity - Insert (A, j)\n",
    "* Time - time consumed to run the code (should be independent of the hardware)\n",
    "* Space - memory used by code to run the program\n",
    "\n",
    "- $ C1 $ = comparison $ (A[i] > A[i + 1]) $ = $ C1 $ time unit.\n",
    "- $ C2 $ = *swap* $ (A[i], A[i + 1]) $ = $ C2 $ time unit.\n",
    "- $ C3 $ = *each **i = j-1** iteration* = $ C3 $ time unit.\n",
    "- $ C4 $ = *break* = $ C4 $ time unit.\n",
    "\n",
    "### Cases:\n",
    "- Best case - each iteration operation exits too self serving. When array is already in ascending order\n",
    "    - $ \\theta(1)$ or $ O(1) $\n",
    "\n",
    "- Worst case - when time units are highest and computer performs all computations at maximum across the length of the array. \n",
    "\n",
    "    - time complexity = $(j-1)(c1+c2+c3)$\n",
    "\n",
    "    - $ \\theta(j)$ or $ O(j) $\n",
    "\n",
    "* Average Case - "
   ]
  },
  {
   "attachments": {},
   "cell_type": "markdown",
   "metadata": {},
   "source": [
    "### Insert Sort\n",
    "* start with first element\n",
    "* Divide the elements into two parts, perform sort for the first part\n",
    "* extend the sorted region by moving 1 position.\n",
    "* Find where the elements needs to go.\n",
    "* Perform insertion and shift the elements over. \n",
    "* repeat steps for all elements. \n",
    "\n",
    "\n",
    "### Computational Complexity - Insert sort\n",
    "\n",
    "\n",
    "- $ C1 $ = comparison $ (A[i] > A[i + 1]) $ = $ C1 $ time unit.\n",
    "- $ C2 $ = *swap* $ (A[i], A[i + 1]) $ = $ C2 $ time unit.\n",
    "- $ C3 $ = *each **i = j-1** iteration* = $ C3 $ time unit.\n",
    "- $ C4 $ = *break* = $ C4 $ time unit.\n",
    "\n",
    "### Cases:\n",
    "- Best case - When array is already in ascending order. Not really useful\n",
    "    - $ n(C3+C1+C4) $\n",
    "    \n",
    "-\n",
    "\n",
    "- Worst case - when time units are highest and computer performs all computations at maximum across the length of the array. (Descending ordered array)\n",
    "\n",
    "    - time complexity = $(j-1)(c1+c2+c3)$\n",
    "\n",
    "    - $ \\sum_{j = 1}^{n} (j - 1) (C1+C2+C3) $\n",
    "    - = $ \\frac{n(n-1)}{2} (C1+C2+C3)$\n",
    "    - = $ \\theta{(n^2)}$ or $ O(n^2) $\n",
    "\n",
    "* Average Case - "
   ]
  },
  {
   "cell_type": "code",
   "execution_count": null,
   "metadata": {},
   "outputs": [],
   "source": [
    "def insert_sort()"
   ]
  }
 ],
 "metadata": {
  "kernelspec": {
   "display_name": "lab",
   "language": "python",
   "name": "python3"
  },
  "language_info": {
   "codemirror_mode": {
    "name": "ipython",
    "version": 3
   },
   "file_extension": ".py",
   "mimetype": "text/x-python",
   "name": "python",
   "nbconvert_exporter": "python",
   "pygments_lexer": "ipython3",
   "version": "3.11.3"
  },
  "orig_nbformat": 4
 },
 "nbformat": 4,
 "nbformat_minor": 2
}
