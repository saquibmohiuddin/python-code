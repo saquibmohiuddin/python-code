{
 "cells": [
  {
   "cell_type": "code",
   "execution_count": 28,
   "metadata": {},
   "outputs": [],
   "source": [
    "import unittest"
   ]
  },
  {
   "cell_type": "code",
   "execution_count": 11,
   "metadata": {},
   "outputs": [],
   "source": [
    "def check_int():\n",
    "    tries = 3\n",
    "    if tries > 0:\n",
    "        waiting = True\n",
    "        while waiting:\n",
    "            try:\n",
    "                result = int(input('Please Enter the number: '))\n",
    "                print(f'{result} is a number')\n",
    "            except:\n",
    "                print('Whoops not a number')\n",
    "                tries -=1\n",
    "                continue\n",
    "            else:\n",
    "                waiting = False\n",
    "    else:\n",
    "        print('you have entered inncorect format multiple times')"
   ]
  },
  {
   "cell_type": "code",
   "execution_count": 13,
   "metadata": {},
   "outputs": [
    {
     "name": "stdout",
     "output_type": "stream",
     "text": [
      "Whoops not a number\n",
      "Whoops not a number\n",
      "Whoops not a number\n",
      "Whoops not a number\n",
      "Whoops not a number\n",
      "Whoops not a number\n",
      "10 is a number\n"
     ]
    }
   ],
   "source": [
    "check_int()"
   ]
  },
  {
   "cell_type": "code",
   "execution_count": 26,
   "metadata": {},
   "outputs": [],
   "source": [
    "def check_int():\n",
    "    tries = 3\n",
    "    while tries > 0:\n",
    "        try:\n",
    "            result = int(input('Please Enter the number: '))\n",
    "            print(f'{result} is a number')\n",
    "        except:\n",
    "            print('Whoops not a number, please enter number')\n",
    "            tries -=1\n",
    "            continue\n",
    "        else:\n",
    "            break"
   ]
  },
  {
   "cell_type": "code",
   "execution_count": 25,
   "metadata": {},
   "outputs": [
    {
     "name": "stdout",
     "output_type": "stream",
     "text": [
      "Whoops not a number\n",
      "Whoops not a number\n",
      "Whoops not a number\n"
     ]
    }
   ],
   "source": [
    "check_int()"
   ]
  },
  {
   "cell_type": "code",
   "execution_count": 35,
   "metadata": {},
   "outputs": [],
   "source": [
    "import unittest\n",
    "import cap\n",
    "\n",
    "class TestCap(unittest.TestCase):\n",
    "    \n",
    "    def test_one_word(self):\n",
    "        text='python'\n",
    "        result=cap.cap_text(text)\n",
    "        self.assertEqual(result, 'Python')\n",
    "        \n",
    "    def test_multiple_words(self):\n",
    "        text = 'python is good'\n",
    "        result = cap.cap_text(text)\n",
    "        self.assertEqual(result, 'Python is good')"
   ]
  },
  {
   "cell_type": "code",
   "execution_count": null,
   "metadata": {},
   "outputs": [],
   "source": []
  }
 ],
 "metadata": {
  "kernelspec": {
   "display_name": "Python 3",
   "language": "python",
   "name": "python3"
  },
  "language_info": {
   "codemirror_mode": {
    "name": "ipython",
    "version": 3
   },
   "file_extension": ".py",
   "mimetype": "text/x-python",
   "name": "python",
   "nbconvert_exporter": "python",
   "pygments_lexer": "ipython3",
   "version": "3.10.9"
  },
  "orig_nbformat": 4
 },
 "nbformat": 4,
 "nbformat_minor": 2
}
